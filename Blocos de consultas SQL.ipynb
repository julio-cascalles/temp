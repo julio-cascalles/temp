{
 "cells": [
  {
   "cell_type": "code",
   "execution_count": 1,
   "id": "63f93b0f-380e-4f34-8e1a-90386ae984ab",
   "metadata": {},
   "outputs": [],
   "source": [
    "from sql_blocks import *"
   ]
  },
  {
   "cell_type": "code",
   "execution_count": 2,
   "id": "8c31681e-6b17-4997-9b4d-168322fb023e",
   "metadata": {},
   "outputs": [],
   "source": [
    "Select.join_type = JoinType.LEFT\n",
    "OrderBy.sort = SortType.DESC"
   ]
  },
  {
   "cell_type": "code",
   "execution_count": 3,
   "id": "32e189f4-330a-459a-a127-236aa70efc92",
   "metadata": {},
   "outputs": [],
   "source": [
    "baixo_risco=SubSelect( 'Risco', cpf_cliente=[GroupBy, Field], nota=Having.avg(Where.lt(5)) )"
   ]
  },
  {
   "cell_type": "code",
   "execution_count": 4,
   "id": "e5364b3e-22c1-4ba5-b497-ceff7feb8786",
   "metadata": {},
   "outputs": [],
   "source": [
    "melhores_clientes = Select('Cliente c', nome=Field, cpf=[PrimaryKey, baixo_risco])"
   ]
  },
  {
   "cell_type": "code",
   "execution_count": 5,
   "id": "76d9177f-34f3-4ac1-90f8-c49906e3a2ac",
   "metadata": {},
   "outputs": [],
   "source": [
    "parcelas_em_aberto = Select(\n",
    "    'Parcela', valor=[Field, OrderBy],\n",
    "    cpf_cliente=melhores_clientes,  # --- Bons pagadores ...\n",
    "    situacao=Where.eq('em aberto')  # --- ...com parcelas para negociar\n",
    ")"
   ]
  },
  {
   "cell_type": "code",
   "execution_count": 6,
   "id": "ba127102-bb38-41d6-8eec-2ceb6f32988a",
   "metadata": {},
   "outputs": [
    {
     "name": "stdout",
     "output_type": "stream",
     "text": [
      "SELECT\n",
      "\tpar.valor,\n",
      "\tnome\n",
      "FROM\n",
      "\tParcela par\n",
      "\tLEFT JOIN Cliente cli ON (par.cpf_cliente = cli.cpf)\n",
      "WHERE\n",
      "\tcli.cpf IN (SELECT ris.cpf_cliente FROM Risco ris GROUP BY ris.cpf_cliente HAVING Avg(ris.nota) < 5)\n",
      "\tAND par.situacao = 'em aberto'\n",
      "ORDER BY\n",
      "\tpar.valor DESC\n"
     ]
    }
   ],
   "source": [
    "print(parcelas_em_aberto)"
   ]
  },
  {
   "cell_type": "code",
   "execution_count": 7,
   "id": "c4a49a1b-f8c2-4267-88c8-96b0d4e6e116",
   "metadata": {},
   "outputs": [],
   "source": [
    "produto = Select(\n",
    "    Produto=Table('nome,valor'),\n",
    "    classe_prod=Case('valor').when(\n",
    "        Where.gte(3000), 'clase A',\n",
    "    ).when(\n",
    "        Where.gte(1000), 'classe B'\n",
    "    ).else_value('classe C'),\n",
    "    restricao=Where.is_null(),\n",
    "    categoria=Not.list(['Higiene', 'Limpeza', 'Automotivos'])\n",
    ")"
   ]
  },
  {
   "cell_type": "code",
   "execution_count": 8,
   "id": "42615375-8119-48e0-bf00-d8a1e55e906d",
   "metadata": {},
   "outputs": [
    {
     "name": "stdout",
     "output_type": "stream",
     "text": [
      "SELECT\n",
      "\tpro.nome,\n",
      "\tpro.valor,\n",
      "\tCASE \n",
      "\t\tWHEN pro.valor >= 3000 THEN 'clase A'\n",
      "\t\tWHEN pro.valor >= 1000 THEN 'classe B'\n",
      "\t\tELSE 'classe C'\n",
      "\tEND AS classe_prod\n",
      "FROM\n",
      "\tProduto pro\n",
      "WHERE\n",
      "\tpro.restricao IS NULL\n",
      "\tAND NOT pro.categoria IN ('Higiene','Limpeza','Automotivos')\n"
     ]
    }
   ],
   "source": [
    "print(produto)"
   ]
  },
  {
   "cell_type": "code",
   "execution_count": null,
   "id": "5f9864aa-dd9e-4211-871a-71449a764f86",
   "metadata": {},
   "outputs": [],
   "source": []
  }
 ],
 "metadata": {
  "kernelspec": {
   "display_name": "Python 3 (ipykernel)",
   "language": "python",
   "name": "python3"
  },
  "language_info": {
   "codemirror_mode": {
    "name": "ipython",
    "version": 3
   },
   "file_extension": ".py",
   "mimetype": "text/x-python",
   "name": "python",
   "nbconvert_exporter": "python",
   "pygments_lexer": "ipython3",
   "version": "3.12.4"
  }
 },
 "nbformat": 4,
 "nbformat_minor": 5
}
